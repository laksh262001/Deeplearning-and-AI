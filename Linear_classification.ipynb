{
  "nbformat": 4,
  "nbformat_minor": 0,
  "metadata": {
    "colab": {
      "provenance": [],
      "collapsed_sections": [],
      "authorship_tag": "ABX9TyMvAWHqLJ9tFL/+v/+5Lm0K",
      "include_colab_link": true
    },
    "kernelspec": {
      "name": "python3",
      "display_name": "Python 3"
    },
    "language_info": {
      "name": "python"
    }
  },
  "cells": [
    {
      "cell_type": "markdown",
      "metadata": {
        "id": "view-in-github",
        "colab_type": "text"
      },
      "source": [
        "<a href=\"https://colab.research.google.com/github/laksh262001/Deeplearning-and-AI/blob/main/Linear_classification.ipynb\" target=\"_parent\"><img src=\"https://colab.research.google.com/assets/colab-badge.svg\" alt=\"Open In Colab\"/></a>"
      ]
    },
    {
      "cell_type": "code",
      "execution_count": 36,
      "metadata": {
        "colab": {
          "base_uri": "https://localhost:8080/"
        },
        "id": "JuQq7QKSc3U9",
        "outputId": "bb0a5ebd-3178-45d3-c72f-93f0a461b934"
      },
      "outputs": [
        {
          "output_type": "stream",
          "name": "stdout",
          "text": [
            "2.8.2\n"
          ]
        }
      ],
      "source": [
        "# !pip3 install -U scikit-learn scipy matplotlib\n",
        "# !pip install matplotlib-venn\n",
        "import tensorflow as tf\n",
        "print(tf.__version__)"
      ]
    },
    {
      "cell_type": "code",
      "source": [
        "# Load in the data\n",
        "from sklearn.datasets import load_breast_cancer"
      ],
      "metadata": {
        "id": "9nixuMlIdV-S"
      },
      "execution_count": 37,
      "outputs": []
    },
    {
      "cell_type": "code",
      "source": [
        "# load the data\n",
        "data = load_breast_cancer()"
      ],
      "metadata": {
        "id": "YmYSiG-vk86V"
      },
      "execution_count": 38,
      "outputs": []
    },
    {
      "cell_type": "code",
      "source": [
        "# check the typr of data\n",
        "type(data)"
      ],
      "metadata": {
        "colab": {
          "base_uri": "https://localhost:8080/"
        },
        "id": "NEr3FjaRlHJ5",
        "outputId": "26d4be4c-2449-4602-9caa-a91b1bbfe450"
      },
      "execution_count": 39,
      "outputs": [
        {
          "output_type": "execute_result",
          "data": {
            "text/plain": [
              "sklearn.utils.Bunch"
            ]
          },
          "metadata": {},
          "execution_count": 39
        }
      ]
    },
    {
      "cell_type": "code",
      "source": [
        "# note:It is a bunch object \n",
        "# this basically acts like a dictionary where you can treat the keys like attributes\n",
        "data.keys()"
      ],
      "metadata": {
        "colab": {
          "base_uri": "https://localhost:8080/"
        },
        "id": "uYXIFB4ClNLK",
        "outputId": "c8492787-455e-4854-cf3f-d74e7be4de69"
      },
      "execution_count": 40,
      "outputs": [
        {
          "output_type": "execute_result",
          "data": {
            "text/plain": [
              "dict_keys(['data', 'target', 'frame', 'target_names', 'DESCR', 'feature_names', 'filename', 'data_module'])"
            ]
          },
          "metadata": {},
          "execution_count": 40
        }
      ]
    },
    {
      "cell_type": "code",
      "source": [
        "# 'data' (the attribute) means the input data\n",
        "data.data.shape\n",
        "# It has 569 samples, 30 features"
      ],
      "metadata": {
        "colab": {
          "base_uri": "https://localhost:8080/"
        },
        "id": "PrRAtmw-DEgC",
        "outputId": "3e1d66e8-98fe-4d3b-8869-ebce7b0ae2c3"
      },
      "execution_count": 41,
      "outputs": [
        {
          "output_type": "execute_result",
          "data": {
            "text/plain": [
              "(569, 30)"
            ]
          },
          "metadata": {},
          "execution_count": 41
        }
      ]
    },
    {
      "cell_type": "code",
      "source": [
        "# 'targets'\n",
        "data.target\n",
        "# note how the targets are just 0s and 1s\n",
        "# normally, when you have X targets, they are labelled 0...k-1"
      ],
      "metadata": {
        "colab": {
          "base_uri": "https://localhost:8080/"
        },
        "id": "MDK9XRdmDZPm",
        "outputId": "33a5d7fa-2bb1-4f50-c870-b7cd42a0d871"
      },
      "execution_count": 42,
      "outputs": [
        {
          "output_type": "execute_result",
          "data": {
            "text/plain": [
              "array([0, 0, 0, 0, 0, 0, 0, 0, 0, 0, 0, 0, 0, 0, 0, 0, 0, 0, 0, 1, 1, 1,\n",
              "       0, 0, 0, 0, 0, 0, 0, 0, 0, 0, 0, 0, 0, 0, 0, 1, 0, 0, 0, 0, 0, 0,\n",
              "       0, 0, 1, 0, 1, 1, 1, 1, 1, 0, 0, 1, 0, 0, 1, 1, 1, 1, 0, 1, 0, 0,\n",
              "       1, 1, 1, 1, 0, 1, 0, 0, 1, 0, 1, 0, 0, 1, 1, 1, 0, 0, 1, 0, 0, 0,\n",
              "       1, 1, 1, 0, 1, 1, 0, 0, 1, 1, 1, 0, 0, 1, 1, 1, 1, 0, 1, 1, 0, 1,\n",
              "       1, 1, 1, 1, 1, 1, 1, 0, 0, 0, 1, 0, 0, 1, 1, 1, 0, 0, 1, 0, 1, 0,\n",
              "       0, 1, 0, 0, 1, 1, 0, 1, 1, 0, 1, 1, 1, 1, 0, 1, 1, 1, 1, 1, 1, 1,\n",
              "       1, 1, 0, 1, 1, 1, 1, 0, 0, 1, 0, 1, 1, 0, 0, 1, 1, 0, 0, 1, 1, 1,\n",
              "       1, 0, 1, 1, 0, 0, 0, 1, 0, 1, 0, 1, 1, 1, 0, 1, 1, 0, 0, 1, 0, 0,\n",
              "       0, 0, 1, 0, 0, 0, 1, 0, 1, 0, 1, 1, 0, 1, 0, 0, 0, 0, 1, 1, 0, 0,\n",
              "       1, 1, 1, 0, 1, 1, 1, 1, 1, 0, 0, 1, 1, 0, 1, 1, 0, 0, 1, 0, 1, 1,\n",
              "       1, 1, 0, 1, 1, 1, 1, 1, 0, 1, 0, 0, 0, 0, 0, 0, 0, 0, 0, 0, 0, 0,\n",
              "       0, 0, 1, 1, 1, 1, 1, 1, 0, 1, 0, 1, 1, 0, 1, 1, 0, 1, 0, 0, 1, 1,\n",
              "       1, 1, 1, 1, 1, 1, 1, 1, 1, 1, 1, 0, 1, 1, 0, 1, 0, 1, 1, 1, 1, 1,\n",
              "       1, 1, 1, 1, 1, 1, 1, 1, 1, 0, 1, 1, 1, 0, 1, 0, 1, 1, 1, 1, 0, 0,\n",
              "       0, 1, 1, 1, 1, 0, 1, 0, 1, 0, 1, 1, 1, 0, 1, 1, 1, 1, 1, 1, 1, 0,\n",
              "       0, 0, 1, 1, 1, 1, 1, 1, 1, 1, 1, 1, 1, 0, 0, 1, 0, 0, 0, 1, 0, 0,\n",
              "       1, 1, 1, 1, 1, 0, 1, 1, 1, 1, 1, 0, 1, 1, 1, 0, 1, 1, 0, 0, 1, 1,\n",
              "       1, 1, 1, 1, 0, 1, 1, 1, 1, 1, 1, 1, 0, 1, 1, 1, 1, 1, 0, 1, 1, 0,\n",
              "       1, 1, 1, 1, 1, 1, 1, 1, 1, 1, 1, 1, 0, 1, 0, 0, 1, 0, 1, 1, 1, 1,\n",
              "       1, 0, 1, 1, 0, 1, 0, 1, 1, 0, 1, 0, 1, 1, 1, 1, 1, 1, 1, 1, 0, 0,\n",
              "       1, 1, 1, 1, 1, 1, 0, 1, 1, 1, 1, 1, 1, 1, 1, 1, 1, 0, 1, 1, 1, 1,\n",
              "       1, 1, 1, 0, 1, 0, 1, 1, 0, 1, 1, 1, 1, 1, 0, 0, 1, 0, 1, 0, 1, 1,\n",
              "       1, 1, 1, 0, 1, 1, 0, 1, 0, 1, 0, 0, 1, 1, 1, 0, 1, 1, 1, 1, 1, 1,\n",
              "       1, 1, 1, 1, 1, 0, 1, 0, 0, 1, 1, 1, 1, 1, 1, 1, 1, 1, 1, 1, 1, 1,\n",
              "       1, 1, 1, 1, 1, 1, 1, 1, 1, 1, 1, 1, 0, 0, 0, 0, 0, 0, 1])"
            ]
          },
          "metadata": {},
          "execution_count": 42
        }
      ]
    },
    {
      "cell_type": "code",
      "source": [
        "# Their meaning is not lost\n",
        "data.target_names"
      ],
      "metadata": {
        "colab": {
          "base_uri": "https://localhost:8080/"
        },
        "id": "39X-wzHPDtRg",
        "outputId": "92a8009c-c1c4-4201-cef8-e3b27f285e2a"
      },
      "execution_count": 43,
      "outputs": [
        {
          "output_type": "execute_result",
          "data": {
            "text/plain": [
              "array(['malignant', 'benign'], dtype='<U9')"
            ]
          },
          "metadata": {},
          "execution_count": 43
        }
      ]
    },
    {
      "cell_type": "code",
      "source": [
        "# There are also 569 corresponding targets\n",
        "data.target.shape"
      ],
      "metadata": {
        "colab": {
          "base_uri": "https://localhost:8080/"
        },
        "id": "2EjwLNkQD-Qh",
        "outputId": "02cc1ada-e7d7-4bac-8831-d21e7628bce9"
      },
      "execution_count": 44,
      "outputs": [
        {
          "output_type": "execute_result",
          "data": {
            "text/plain": [
              "(569,)"
            ]
          },
          "metadata": {},
          "execution_count": 44
        }
      ]
    },
    {
      "cell_type": "code",
      "source": [
        "# Yoy can also determine the meaning of each feature\n",
        "data.feature_names"
      ],
      "metadata": {
        "colab": {
          "base_uri": "https://localhost:8080/"
        },
        "id": "2DoU0MpIFlPE",
        "outputId": "fa9175de-5d57-4f87-d1aa-c6137b0d1a92"
      },
      "execution_count": 45,
      "outputs": [
        {
          "output_type": "execute_result",
          "data": {
            "text/plain": [
              "array(['mean radius', 'mean texture', 'mean perimeter', 'mean area',\n",
              "       'mean smoothness', 'mean compactness', 'mean concavity',\n",
              "       'mean concave points', 'mean symmetry', 'mean fractal dimension',\n",
              "       'radius error', 'texture error', 'perimeter error', 'area error',\n",
              "       'smoothness error', 'compactness error', 'concavity error',\n",
              "       'concave points error', 'symmetry error',\n",
              "       'fractal dimension error', 'worst radius', 'worst texture',\n",
              "       'worst perimeter', 'worst area', 'worst smoothness',\n",
              "       'worst compactness', 'worst concavity', 'worst concave points',\n",
              "       'worst symmetry', 'worst fractal dimension'], dtype='<U23')"
            ]
          },
          "metadata": {},
          "execution_count": 45
        }
      ]
    },
    {
      "cell_type": "code",
      "source": [
        "# normally we would put all of our imports at the top\n",
        "from sklearn.model_selection import train_test_split"
      ],
      "metadata": {
        "id": "8R-AuJ7hF9Lh"
      },
      "execution_count": 46,
      "outputs": []
    },
    {
      "cell_type": "code",
      "source": [
        "# Split the data into train and test sets\n",
        "# This lets us simulate how our model will perform in the future\n",
        "X_train, X_test, y_train, y_test = train_test_split(data.data, data.target, test_size=0.33)\n",
        "N, D = X_train.shape"
      ],
      "metadata": {
        "id": "8zYRTPgsJRst"
      },
      "execution_count": 47,
      "outputs": []
    },
    {
      "cell_type": "code",
      "source": [
        "# Scale the data \n",
        "from sklearn.preprocessing import StandardScaler\n",
        "\n",
        "scaler = StandardScaler()\n",
        "X_train = scaler.fit_transform(X_train)\n",
        "X_test = scaler.transform(X_test)"
      ],
      "metadata": {
        "id": "X5vA_JNmN2xT"
      },
      "execution_count": 48,
      "outputs": []
    },
    {
      "cell_type": "code",
      "source": [
        "# Build the model\n",
        "model = tf.keras.models.Sequential([\n",
        "    tf.keras.layers.Input(shape=(D,)),\n",
        "    tf.keras.layers.Dense(1, activation = 'sigmoid')\n",
        "])\n",
        "\n",
        "# Alternatively method:\n",
        "# model= tf.keras.models.Sequential()\n",
        "# model.add(tf.keras.layers.Dense(1, input_shape=(D,) activation=\"sigmoid\"))\n",
        "\n",
        "model.compile(optimizer='adam', loss='binary_crossentropy', metrics=['accuracy'])\n",
        "\n",
        "# Train the model\n",
        "r = model.fit(X_train, y_train, validation_data=(X_test, y_test), epochs=100)\n",
        "\n",
        "# Evalute the model - evalute() returns loss and accuracy\n",
        "print(\"Train score:\", model.evaluate(X_train, y_train))\n",
        "print(\"Test score:\", model.evaluate(X_test, y_test))"
      ],
      "metadata": {
        "colab": {
          "base_uri": "https://localhost:8080/"
        },
        "id": "rOXLTNv8Nz9e",
        "outputId": "aa0d7a24-d510-4155-a1f0-adaa038af71d"
      },
      "execution_count": 49,
      "outputs": [
        {
          "output_type": "stream",
          "name": "stdout",
          "text": [
            "Epoch 1/100\n",
            "12/12 [==============================] - 1s 18ms/step - loss: 1.0563 - accuracy: 0.3176 - val_loss: 1.0022 - val_accuracy: 0.3457\n",
            "Epoch 2/100\n",
            "12/12 [==============================] - 0s 4ms/step - loss: 0.9633 - accuracy: 0.4042 - val_loss: 0.9138 - val_accuracy: 0.4255\n",
            "Epoch 3/100\n",
            "12/12 [==============================] - 0s 5ms/step - loss: 0.8836 - accuracy: 0.4803 - val_loss: 0.8345 - val_accuracy: 0.5160\n",
            "Epoch 4/100\n",
            "12/12 [==============================] - 0s 4ms/step - loss: 0.8113 - accuracy: 0.5249 - val_loss: 0.7665 - val_accuracy: 0.6064\n",
            "Epoch 5/100\n",
            "12/12 [==============================] - 0s 4ms/step - loss: 0.7492 - accuracy: 0.5932 - val_loss: 0.7071 - val_accuracy: 0.6489\n",
            "Epoch 6/100\n",
            "12/12 [==============================] - 0s 4ms/step - loss: 0.6950 - accuracy: 0.6430 - val_loss: 0.6557 - val_accuracy: 0.7128\n",
            "Epoch 7/100\n",
            "12/12 [==============================] - 0s 4ms/step - loss: 0.6473 - accuracy: 0.6929 - val_loss: 0.6114 - val_accuracy: 0.7447\n",
            "Epoch 8/100\n",
            "12/12 [==============================] - 0s 5ms/step - loss: 0.6062 - accuracy: 0.7323 - val_loss: 0.5723 - val_accuracy: 0.7713\n",
            "Epoch 9/100\n",
            "12/12 [==============================] - 0s 6ms/step - loss: 0.5702 - accuracy: 0.7664 - val_loss: 0.5377 - val_accuracy: 0.7819\n",
            "Epoch 10/100\n",
            "12/12 [==============================] - 0s 4ms/step - loss: 0.5373 - accuracy: 0.7848 - val_loss: 0.5074 - val_accuracy: 0.7872\n",
            "Epoch 11/100\n",
            "12/12 [==============================] - 0s 4ms/step - loss: 0.5085 - accuracy: 0.8005 - val_loss: 0.4804 - val_accuracy: 0.7926\n",
            "Epoch 12/100\n",
            "12/12 [==============================] - 0s 4ms/step - loss: 0.4824 - accuracy: 0.8163 - val_loss: 0.4562 - val_accuracy: 0.8138\n",
            "Epoch 13/100\n",
            "12/12 [==============================] - 0s 4ms/step - loss: 0.4591 - accuracy: 0.8373 - val_loss: 0.4344 - val_accuracy: 0.8191\n",
            "Epoch 14/100\n",
            "12/12 [==============================] - 0s 5ms/step - loss: 0.4380 - accuracy: 0.8399 - val_loss: 0.4146 - val_accuracy: 0.8298\n",
            "Epoch 15/100\n",
            "12/12 [==============================] - 0s 4ms/step - loss: 0.4187 - accuracy: 0.8425 - val_loss: 0.3966 - val_accuracy: 0.8404\n",
            "Epoch 16/100\n",
            "12/12 [==============================] - 0s 4ms/step - loss: 0.4007 - accuracy: 0.8451 - val_loss: 0.3805 - val_accuracy: 0.8457\n",
            "Epoch 17/100\n",
            "12/12 [==============================] - 0s 4ms/step - loss: 0.3849 - accuracy: 0.8609 - val_loss: 0.3651 - val_accuracy: 0.8564\n",
            "Epoch 18/100\n",
            "12/12 [==============================] - 0s 6ms/step - loss: 0.3696 - accuracy: 0.8635 - val_loss: 0.3512 - val_accuracy: 0.8617\n",
            "Epoch 19/100\n",
            "12/12 [==============================] - 0s 4ms/step - loss: 0.3559 - accuracy: 0.8688 - val_loss: 0.3385 - val_accuracy: 0.8777\n",
            "Epoch 20/100\n",
            "12/12 [==============================] - 0s 4ms/step - loss: 0.3427 - accuracy: 0.8740 - val_loss: 0.3269 - val_accuracy: 0.8883\n",
            "Epoch 21/100\n",
            "12/12 [==============================] - 0s 6ms/step - loss: 0.3311 - accuracy: 0.8819 - val_loss: 0.3157 - val_accuracy: 0.8883\n",
            "Epoch 22/100\n",
            "12/12 [==============================] - 0s 4ms/step - loss: 0.3197 - accuracy: 0.8924 - val_loss: 0.3054 - val_accuracy: 0.8883\n",
            "Epoch 23/100\n",
            "12/12 [==============================] - 0s 4ms/step - loss: 0.3093 - accuracy: 0.8924 - val_loss: 0.2959 - val_accuracy: 0.8883\n",
            "Epoch 24/100\n",
            "12/12 [==============================] - 0s 6ms/step - loss: 0.2992 - accuracy: 0.8950 - val_loss: 0.2874 - val_accuracy: 0.8883\n",
            "Epoch 25/100\n",
            "12/12 [==============================] - 0s 4ms/step - loss: 0.2902 - accuracy: 0.8976 - val_loss: 0.2790 - val_accuracy: 0.8883\n",
            "Epoch 26/100\n",
            "12/12 [==============================] - 0s 4ms/step - loss: 0.2813 - accuracy: 0.9029 - val_loss: 0.2715 - val_accuracy: 0.8936\n",
            "Epoch 27/100\n",
            "12/12 [==============================] - 0s 4ms/step - loss: 0.2733 - accuracy: 0.9134 - val_loss: 0.2642 - val_accuracy: 0.8989\n",
            "Epoch 28/100\n",
            "12/12 [==============================] - 0s 4ms/step - loss: 0.2656 - accuracy: 0.9213 - val_loss: 0.2573 - val_accuracy: 0.9096\n",
            "Epoch 29/100\n",
            "12/12 [==============================] - 0s 5ms/step - loss: 0.2581 - accuracy: 0.9239 - val_loss: 0.2512 - val_accuracy: 0.9096\n",
            "Epoch 30/100\n",
            "12/12 [==============================] - 0s 4ms/step - loss: 0.2516 - accuracy: 0.9239 - val_loss: 0.2449 - val_accuracy: 0.9096\n",
            "Epoch 31/100\n",
            "12/12 [==============================] - 0s 5ms/step - loss: 0.2446 - accuracy: 0.9239 - val_loss: 0.2394 - val_accuracy: 0.9202\n",
            "Epoch 32/100\n",
            "12/12 [==============================] - 0s 5ms/step - loss: 0.2384 - accuracy: 0.9239 - val_loss: 0.2342 - val_accuracy: 0.9255\n",
            "Epoch 33/100\n",
            "12/12 [==============================] - 0s 4ms/step - loss: 0.2325 - accuracy: 0.9291 - val_loss: 0.2292 - val_accuracy: 0.9255\n",
            "Epoch 34/100\n",
            "12/12 [==============================] - 0s 6ms/step - loss: 0.2269 - accuracy: 0.9318 - val_loss: 0.2245 - val_accuracy: 0.9255\n",
            "Epoch 35/100\n",
            "12/12 [==============================] - 0s 6ms/step - loss: 0.2216 - accuracy: 0.9318 - val_loss: 0.2200 - val_accuracy: 0.9255\n",
            "Epoch 36/100\n",
            "12/12 [==============================] - 0s 5ms/step - loss: 0.2162 - accuracy: 0.9318 - val_loss: 0.2159 - val_accuracy: 0.9255\n",
            "Epoch 37/100\n",
            "12/12 [==============================] - 0s 4ms/step - loss: 0.2114 - accuracy: 0.9370 - val_loss: 0.2119 - val_accuracy: 0.9255\n",
            "Epoch 38/100\n",
            "12/12 [==============================] - 0s 6ms/step - loss: 0.2066 - accuracy: 0.9370 - val_loss: 0.2083 - val_accuracy: 0.9255\n",
            "Epoch 39/100\n",
            "12/12 [==============================] - 0s 5ms/step - loss: 0.2023 - accuracy: 0.9370 - val_loss: 0.2046 - val_accuracy: 0.9255\n",
            "Epoch 40/100\n",
            "12/12 [==============================] - 0s 7ms/step - loss: 0.1981 - accuracy: 0.9396 - val_loss: 0.2011 - val_accuracy: 0.9255\n",
            "Epoch 41/100\n",
            "12/12 [==============================] - 0s 6ms/step - loss: 0.1939 - accuracy: 0.9423 - val_loss: 0.1980 - val_accuracy: 0.9255\n",
            "Epoch 42/100\n",
            "12/12 [==============================] - 0s 6ms/step - loss: 0.1901 - accuracy: 0.9423 - val_loss: 0.1948 - val_accuracy: 0.9255\n",
            "Epoch 43/100\n",
            "12/12 [==============================] - 0s 4ms/step - loss: 0.1861 - accuracy: 0.9423 - val_loss: 0.1920 - val_accuracy: 0.9255\n",
            "Epoch 44/100\n",
            "12/12 [==============================] - 0s 4ms/step - loss: 0.1826 - accuracy: 0.9423 - val_loss: 0.1892 - val_accuracy: 0.9255\n",
            "Epoch 45/100\n",
            "12/12 [==============================] - 0s 4ms/step - loss: 0.1792 - accuracy: 0.9449 - val_loss: 0.1866 - val_accuracy: 0.9309\n",
            "Epoch 46/100\n",
            "12/12 [==============================] - 0s 5ms/step - loss: 0.1758 - accuracy: 0.9449 - val_loss: 0.1841 - val_accuracy: 0.9309\n",
            "Epoch 47/100\n",
            "12/12 [==============================] - 0s 4ms/step - loss: 0.1726 - accuracy: 0.9475 - val_loss: 0.1817 - val_accuracy: 0.9309\n",
            "Epoch 48/100\n",
            "12/12 [==============================] - 0s 4ms/step - loss: 0.1696 - accuracy: 0.9528 - val_loss: 0.1794 - val_accuracy: 0.9362\n",
            "Epoch 49/100\n",
            "12/12 [==============================] - 0s 6ms/step - loss: 0.1666 - accuracy: 0.9528 - val_loss: 0.1772 - val_accuracy: 0.9362\n",
            "Epoch 50/100\n",
            "12/12 [==============================] - 0s 4ms/step - loss: 0.1639 - accuracy: 0.9580 - val_loss: 0.1752 - val_accuracy: 0.9362\n",
            "Epoch 51/100\n",
            "12/12 [==============================] - 0s 4ms/step - loss: 0.1611 - accuracy: 0.9606 - val_loss: 0.1732 - val_accuracy: 0.9362\n",
            "Epoch 52/100\n",
            "12/12 [==============================] - 0s 5ms/step - loss: 0.1585 - accuracy: 0.9606 - val_loss: 0.1712 - val_accuracy: 0.9362\n",
            "Epoch 53/100\n",
            "12/12 [==============================] - 0s 4ms/step - loss: 0.1560 - accuracy: 0.9606 - val_loss: 0.1694 - val_accuracy: 0.9362\n",
            "Epoch 54/100\n",
            "12/12 [==============================] - 0s 5ms/step - loss: 0.1536 - accuracy: 0.9606 - val_loss: 0.1676 - val_accuracy: 0.9362\n",
            "Epoch 55/100\n",
            "12/12 [==============================] - 0s 5ms/step - loss: 0.1513 - accuracy: 0.9606 - val_loss: 0.1659 - val_accuracy: 0.9362\n",
            "Epoch 56/100\n",
            "12/12 [==============================] - 0s 4ms/step - loss: 0.1491 - accuracy: 0.9633 - val_loss: 0.1642 - val_accuracy: 0.9362\n",
            "Epoch 57/100\n",
            "12/12 [==============================] - 0s 4ms/step - loss: 0.1468 - accuracy: 0.9633 - val_loss: 0.1627 - val_accuracy: 0.9362\n",
            "Epoch 58/100\n",
            "12/12 [==============================] - 0s 5ms/step - loss: 0.1448 - accuracy: 0.9633 - val_loss: 0.1612 - val_accuracy: 0.9362\n",
            "Epoch 59/100\n",
            "12/12 [==============================] - 0s 4ms/step - loss: 0.1428 - accuracy: 0.9659 - val_loss: 0.1598 - val_accuracy: 0.9362\n",
            "Epoch 60/100\n",
            "12/12 [==============================] - 0s 4ms/step - loss: 0.1409 - accuracy: 0.9659 - val_loss: 0.1584 - val_accuracy: 0.9362\n",
            "Epoch 61/100\n",
            "12/12 [==============================] - 0s 5ms/step - loss: 0.1389 - accuracy: 0.9659 - val_loss: 0.1570 - val_accuracy: 0.9362\n",
            "Epoch 62/100\n",
            "12/12 [==============================] - 0s 4ms/step - loss: 0.1371 - accuracy: 0.9659 - val_loss: 0.1558 - val_accuracy: 0.9415\n",
            "Epoch 63/100\n",
            "12/12 [==============================] - 0s 4ms/step - loss: 0.1354 - accuracy: 0.9685 - val_loss: 0.1546 - val_accuracy: 0.9415\n",
            "Epoch 64/100\n",
            "12/12 [==============================] - 0s 4ms/step - loss: 0.1336 - accuracy: 0.9685 - val_loss: 0.1535 - val_accuracy: 0.9415\n",
            "Epoch 65/100\n",
            "12/12 [==============================] - 0s 4ms/step - loss: 0.1320 - accuracy: 0.9685 - val_loss: 0.1523 - val_accuracy: 0.9415\n",
            "Epoch 66/100\n",
            "12/12 [==============================] - 0s 5ms/step - loss: 0.1304 - accuracy: 0.9711 - val_loss: 0.1513 - val_accuracy: 0.9415\n",
            "Epoch 67/100\n",
            "12/12 [==============================] - 0s 6ms/step - loss: 0.1289 - accuracy: 0.9711 - val_loss: 0.1502 - val_accuracy: 0.9415\n",
            "Epoch 68/100\n",
            "12/12 [==============================] - 0s 6ms/step - loss: 0.1273 - accuracy: 0.9711 - val_loss: 0.1491 - val_accuracy: 0.9468\n",
            "Epoch 69/100\n",
            "12/12 [==============================] - 0s 7ms/step - loss: 0.1259 - accuracy: 0.9711 - val_loss: 0.1481 - val_accuracy: 0.9468\n",
            "Epoch 70/100\n",
            "12/12 [==============================] - 0s 7ms/step - loss: 0.1244 - accuracy: 0.9711 - val_loss: 0.1472 - val_accuracy: 0.9468\n",
            "Epoch 71/100\n",
            "12/12 [==============================] - 0s 7ms/step - loss: 0.1231 - accuracy: 0.9738 - val_loss: 0.1463 - val_accuracy: 0.9468\n",
            "Epoch 72/100\n",
            "12/12 [==============================] - 0s 6ms/step - loss: 0.1217 - accuracy: 0.9738 - val_loss: 0.1455 - val_accuracy: 0.9468\n",
            "Epoch 73/100\n",
            "12/12 [==============================] - 0s 7ms/step - loss: 0.1204 - accuracy: 0.9738 - val_loss: 0.1446 - val_accuracy: 0.9468\n",
            "Epoch 74/100\n",
            "12/12 [==============================] - 0s 5ms/step - loss: 0.1191 - accuracy: 0.9738 - val_loss: 0.1437 - val_accuracy: 0.9468\n",
            "Epoch 75/100\n",
            "12/12 [==============================] - 0s 4ms/step - loss: 0.1179 - accuracy: 0.9738 - val_loss: 0.1430 - val_accuracy: 0.9468\n",
            "Epoch 76/100\n",
            "12/12 [==============================] - 0s 5ms/step - loss: 0.1166 - accuracy: 0.9738 - val_loss: 0.1422 - val_accuracy: 0.9468\n",
            "Epoch 77/100\n",
            "12/12 [==============================] - 0s 5ms/step - loss: 0.1155 - accuracy: 0.9738 - val_loss: 0.1414 - val_accuracy: 0.9468\n",
            "Epoch 78/100\n",
            "12/12 [==============================] - 0s 5ms/step - loss: 0.1143 - accuracy: 0.9738 - val_loss: 0.1407 - val_accuracy: 0.9468\n",
            "Epoch 79/100\n",
            "12/12 [==============================] - 0s 5ms/step - loss: 0.1131 - accuracy: 0.9738 - val_loss: 0.1400 - val_accuracy: 0.9468\n",
            "Epoch 80/100\n",
            "12/12 [==============================] - 0s 6ms/step - loss: 0.1121 - accuracy: 0.9738 - val_loss: 0.1393 - val_accuracy: 0.9468\n",
            "Epoch 81/100\n",
            "12/12 [==============================] - 0s 5ms/step - loss: 0.1110 - accuracy: 0.9738 - val_loss: 0.1387 - val_accuracy: 0.9468\n",
            "Epoch 82/100\n",
            "12/12 [==============================] - 0s 6ms/step - loss: 0.1100 - accuracy: 0.9738 - val_loss: 0.1380 - val_accuracy: 0.9468\n",
            "Epoch 83/100\n",
            "12/12 [==============================] - 0s 4ms/step - loss: 0.1089 - accuracy: 0.9764 - val_loss: 0.1374 - val_accuracy: 0.9468\n",
            "Epoch 84/100\n",
            "12/12 [==============================] - 0s 6ms/step - loss: 0.1079 - accuracy: 0.9764 - val_loss: 0.1369 - val_accuracy: 0.9468\n",
            "Epoch 85/100\n",
            "12/12 [==============================] - 0s 6ms/step - loss: 0.1069 - accuracy: 0.9764 - val_loss: 0.1363 - val_accuracy: 0.9468\n",
            "Epoch 86/100\n",
            "12/12 [==============================] - 0s 4ms/step - loss: 0.1059 - accuracy: 0.9790 - val_loss: 0.1357 - val_accuracy: 0.9468\n",
            "Epoch 87/100\n",
            "12/12 [==============================] - 0s 4ms/step - loss: 0.1050 - accuracy: 0.9790 - val_loss: 0.1352 - val_accuracy: 0.9468\n",
            "Epoch 88/100\n",
            "12/12 [==============================] - 0s 4ms/step - loss: 0.1041 - accuracy: 0.9790 - val_loss: 0.1346 - val_accuracy: 0.9521\n",
            "Epoch 89/100\n",
            "12/12 [==============================] - 0s 4ms/step - loss: 0.1032 - accuracy: 0.9816 - val_loss: 0.1341 - val_accuracy: 0.9521\n",
            "Epoch 90/100\n",
            "12/12 [==============================] - 0s 4ms/step - loss: 0.1023 - accuracy: 0.9816 - val_loss: 0.1336 - val_accuracy: 0.9521\n",
            "Epoch 91/100\n",
            "12/12 [==============================] - 0s 5ms/step - loss: 0.1014 - accuracy: 0.9816 - val_loss: 0.1331 - val_accuracy: 0.9521\n",
            "Epoch 92/100\n",
            "12/12 [==============================] - 0s 4ms/step - loss: 0.1006 - accuracy: 0.9816 - val_loss: 0.1326 - val_accuracy: 0.9574\n",
            "Epoch 93/100\n",
            "12/12 [==============================] - 0s 4ms/step - loss: 0.0997 - accuracy: 0.9816 - val_loss: 0.1322 - val_accuracy: 0.9574\n",
            "Epoch 94/100\n",
            "12/12 [==============================] - 0s 4ms/step - loss: 0.0989 - accuracy: 0.9816 - val_loss: 0.1317 - val_accuracy: 0.9521\n",
            "Epoch 95/100\n",
            "12/12 [==============================] - 0s 5ms/step - loss: 0.0981 - accuracy: 0.9816 - val_loss: 0.1313 - val_accuracy: 0.9521\n",
            "Epoch 96/100\n",
            "12/12 [==============================] - 0s 5ms/step - loss: 0.0973 - accuracy: 0.9843 - val_loss: 0.1309 - val_accuracy: 0.9521\n",
            "Epoch 97/100\n",
            "12/12 [==============================] - 0s 4ms/step - loss: 0.0966 - accuracy: 0.9843 - val_loss: 0.1305 - val_accuracy: 0.9521\n",
            "Epoch 98/100\n",
            "12/12 [==============================] - 0s 5ms/step - loss: 0.0958 - accuracy: 0.9843 - val_loss: 0.1301 - val_accuracy: 0.9521\n",
            "Epoch 99/100\n",
            "12/12 [==============================] - 0s 4ms/step - loss: 0.0950 - accuracy: 0.9843 - val_loss: 0.1297 - val_accuracy: 0.9521\n",
            "Epoch 100/100\n",
            "12/12 [==============================] - 0s 4ms/step - loss: 0.0944 - accuracy: 0.9843 - val_loss: 0.1293 - val_accuracy: 0.9521\n",
            "12/12 [==============================] - 0s 2ms/step - loss: 0.0939 - accuracy: 0.9843\n",
            "Train score: [0.09390125423669815, 0.9842519760131836]\n",
            "6/6 [==============================] - 0s 2ms/step - loss: 0.1293 - accuracy: 0.9521\n",
            "Test score: [0.12931500375270844, 0.9521276354789734]\n"
          ]
        }
      ]
    },
    {
      "cell_type": "code",
      "source": [
        "# Plot what's returned by model.fit()\n",
        "!pip install matplotlib==3.1.3\n",
        "import matplotlib.pyplot as plt\n",
        "plt.plot(r.history['loss'], label='loss')\n",
        "plt.plot(r.history['val_loss'], label='val_loss')\n",
        "plt.legend()"
      ],
      "metadata": {
        "colab": {
          "base_uri": "https://localhost:8080/",
          "height": 439
        },
        "id": "aiiF0em7QLqy",
        "outputId": "be5299ad-2a55-4fe8-920d-1253da731db0"
      },
      "execution_count": 50,
      "outputs": [
        {
          "output_type": "stream",
          "name": "stdout",
          "text": [
            "Looking in indexes: https://pypi.org/simple, https://us-python.pkg.dev/colab-wheels/public/simple/\n",
            "Requirement already satisfied: matplotlib==3.1.3 in /usr/local/lib/python3.7/dist-packages (3.1.3)\n",
            "Requirement already satisfied: pyparsing!=2.0.4,!=2.1.2,!=2.1.6,>=2.0.1 in /usr/local/lib/python3.7/dist-packages (from matplotlib==3.1.3) (3.0.9)\n",
            "Requirement already satisfied: kiwisolver>=1.0.1 in /usr/local/lib/python3.7/dist-packages (from matplotlib==3.1.3) (1.4.4)\n",
            "Requirement already satisfied: cycler>=0.10 in /usr/local/lib/python3.7/dist-packages (from matplotlib==3.1.3) (0.11.0)\n",
            "Requirement already satisfied: numpy>=1.11 in /usr/local/lib/python3.7/dist-packages (from matplotlib==3.1.3) (1.21.6)\n",
            "Requirement already satisfied: python-dateutil>=2.1 in /usr/local/lib/python3.7/dist-packages (from matplotlib==3.1.3) (2.8.2)\n",
            "Requirement already satisfied: typing-extensions in /usr/local/lib/python3.7/dist-packages (from kiwisolver>=1.0.1->matplotlib==3.1.3) (4.1.1)\n",
            "Requirement already satisfied: six>=1.5 in /usr/local/lib/python3.7/dist-packages (from python-dateutil>=2.1->matplotlib==3.1.3) (1.15.0)\n"
          ]
        },
        {
          "output_type": "execute_result",
          "data": {
            "text/plain": [
              "<matplotlib.legend.Legend at 0x7f481ba335d0>"
            ]
          },
          "metadata": {},
          "execution_count": 50
        },
        {
          "output_type": "display_data",
          "data": {
            "text/plain": [
              "<Figure size 432x288 with 1 Axes>"
            ],
            "image/png": "[encoded data removed]"
          },
          "metadata": {
            "needs_background": "light"
          }
        }
      ]
    },
    {
      "cell_type": "code",
      "source": [
        "# Plot the accuracy\n",
        "plt.plot(r.history['accuracy'], label='acc')\n",
        "plt.plot(r.history['val_accuracy'], label='val_acc')\n",
        "plt.legend()"
      ],
      "metadata": {
        "colab": {
          "base_uri": "https://localhost:8080/",
          "height": 282
        },
        "id": "1aQd_LeBVbEO",
        "outputId": "57f81509-e42b-40e0-c764-831bd3f66c52"
      },
      "execution_count": 51,
      "outputs": [
        {
          "output_type": "execute_result",
          "data": {
            "text/plain": [
              "<matplotlib.legend.Legend at 0x7f481ba7b910>"
            ]
          },
          "metadata": {},
          "execution_count": 51
        },
        {
          "output_type": "display_data",
          "data": {
            "text/plain": [
              "<Figure size 432x288 with 1 Axes>"
            ],
            "image/png": "[encoded data removed]"
          },
          "metadata": {
            "needs_background": "light"
          }
        }
      ]
    },
    {
      "cell_type": "markdown",
      "source": [
        "#Part2: Making Predictions"
      ],
      "metadata": {
        "id": "onv-EiJq2uxR"
      }
    },
    {
      "cell_type": "code",
      "source": [
        "# Make predictions\n",
        "P = model.predict(X_test)\n",
        "print(P)"
      ],
      "metadata": {
        "colab": {
          "base_uri": "https://localhost:8080/"
        },
        "id": "v5oH-Zaa22oq",
        "outputId": "cb8e4e45-c9a5-4ae6-d293-aba6c69bc2cf"
      },
      "execution_count": 55,
      "outputs": [
        {
          "output_type": "stream",
          "name": "stdout",
          "text": [
            "[[9.92377877e-01]\n",
            " [9.89984334e-01]\n",
            " [2.48026848e-03]\n",
            " [9.72714424e-01]\n",
            " [1.01040483e-01]\n",
            " [9.97830212e-01]\n",
            " [9.39688385e-01]\n",
            " [9.94667172e-01]\n",
            " [9.96249855e-01]\n",
            " [5.47856092e-04]\n",
            " [7.54800640e-05]\n",
            " [9.69724417e-01]\n",
            " [9.52016354e-01]\n",
            " [9.25358117e-01]\n",
            " [9.90962267e-01]\n",
            " [9.95351851e-01]\n",
            " [4.79292005e-01]\n",
            " [1.34746701e-01]\n",
            " [1.21334046e-01]\n",
            " [9.51973200e-01]\n",
            " [9.37572181e-01]\n",
            " [9.74931598e-01]\n",
            " [4.78020012e-02]\n",
            " [2.18954742e-01]\n",
            " [9.90728617e-01]\n",
            " [5.82398713e-01]\n",
            " [9.72638726e-01]\n",
            " [9.84851599e-01]\n",
            " [5.51735699e-01]\n",
            " [8.50149445e-05]\n",
            " [9.91605639e-01]\n",
            " [4.07940447e-01]\n",
            " [7.15798140e-03]\n",
            " [9.52382565e-01]\n",
            " [2.52544880e-04]\n",
            " [9.83662248e-01]\n",
            " [6.21839643e-01]\n",
            " [9.84669566e-01]\n",
            " [9.58464980e-01]\n",
            " [9.90180254e-01]\n",
            " [3.53125811e-01]\n",
            " [9.74274755e-01]\n",
            " [9.41647768e-01]\n",
            " [9.86257076e-01]\n",
            " [7.27290750e-01]\n",
            " [9.87917781e-01]\n",
            " [9.98434305e-01]\n",
            " [5.62431097e-01]\n",
            " [1.43333972e-02]\n",
            " [9.66569304e-01]\n",
            " [9.94780004e-01]\n",
            " [1.49805397e-01]\n",
            " [9.76650953e-01]\n",
            " [8.43050957e-01]\n",
            " [8.97321463e-01]\n",
            " [9.78532434e-01]\n",
            " [1.34352952e-01]\n",
            " [9.08308268e-01]\n",
            " [9.76202905e-01]\n",
            " [9.83664691e-01]\n",
            " [9.42826271e-04]\n",
            " [9.96179342e-01]\n",
            " [9.96895552e-01]\n",
            " [8.68799508e-01]\n",
            " [1.65760219e-02]\n",
            " [9.19012189e-01]\n",
            " [3.53172421e-03]\n",
            " [1.90416449e-05]\n",
            " [9.79140759e-01]\n",
            " [2.07294204e-09]\n",
            " [9.34240103e-01]\n",
            " [9.92075086e-01]\n",
            " [9.40956488e-06]\n",
            " [9.41609561e-01]\n",
            " [9.92701232e-01]\n",
            " [6.97155595e-02]\n",
            " [6.09811485e-01]\n",
            " [4.85599041e-03]\n",
            " [9.70990539e-01]\n",
            " [9.96718168e-01]\n",
            " [9.98693228e-01]\n",
            " [3.00356746e-03]\n",
            " [2.16151029e-01]\n",
            " [9.81587052e-01]\n",
            " [9.90938902e-01]\n",
            " [1.52291750e-05]\n",
            " [8.07526708e-03]\n",
            " [9.96759653e-01]\n",
            " [7.62786269e-02]\n",
            " [6.22206509e-01]\n",
            " [1.32098019e-01]\n",
            " [9.57462788e-01]\n",
            " [1.58915520e-02]\n",
            " [9.52666938e-01]\n",
            " [5.48166454e-01]\n",
            " [9.91211951e-01]\n",
            " [6.67095184e-04]\n",
            " [9.63609219e-01]\n",
            " [9.93604779e-01]\n",
            " [7.52056956e-01]\n",
            " [9.71431255e-01]\n",
            " [1.15215778e-03]\n",
            " [9.97379184e-01]\n",
            " [9.97731566e-01]\n",
            " [6.52960598e-01]\n",
            " [9.47828650e-01]\n",
            " [9.81000185e-01]\n",
            " [7.75482178e-01]\n",
            " [7.17268825e-01]\n",
            " [4.93407249e-04]\n",
            " [9.91479695e-01]\n",
            " [1.27923489e-03]\n",
            " [4.26754355e-03]\n",
            " [5.24949610e-01]\n",
            " [9.31483865e-01]\n",
            " [9.97809768e-01]\n",
            " [9.69767809e-01]\n",
            " [1.89176202e-03]\n",
            " [5.37249446e-03]\n",
            " [2.00632215e-03]\n",
            " [9.63308215e-01]\n",
            " [9.79515314e-01]\n",
            " [9.82714176e-01]\n",
            " [8.87388587e-01]\n",
            " [9.77092505e-01]\n",
            " [9.60280180e-01]\n",
            " [7.28368759e-04]\n",
            " [9.97085452e-01]\n",
            " [7.04388261e-01]\n",
            " [9.96298909e-01]\n",
            " [6.50803216e-08]\n",
            " [4.55819873e-06]\n",
            " [7.69379854e-01]\n",
            " [4.91755158e-01]\n",
            " [9.86635923e-01]\n",
            " [6.31633401e-03]\n",
            " [5.55748224e-01]\n",
            " [5.39749861e-04]\n",
            " [9.99303460e-01]\n",
            " [2.51644850e-02]\n",
            " [6.01725578e-02]\n",
            " [9.89677191e-01]\n",
            " [1.34043992e-02]\n",
            " [1.21940374e-02]\n",
            " [4.59074974e-04]\n",
            " [4.25481796e-03]\n",
            " [9.05698776e-01]\n",
            " [9.65142965e-01]\n",
            " [9.38285351e-01]\n",
            " [9.95133579e-01]\n",
            " [9.98669386e-01]\n",
            " [9.93818879e-01]\n",
            " [9.94974673e-01]\n",
            " [9.89982188e-01]\n",
            " [9.77763295e-01]\n",
            " [9.15190935e-01]\n",
            " [9.86841559e-01]\n",
            " [4.63634729e-03]\n",
            " [1.75954103e-02]\n",
            " [3.92667055e-02]\n",
            " [9.95523512e-01]\n",
            " [8.57090354e-01]\n",
            " [9.67490733e-01]\n",
            " [7.68603802e-01]\n",
            " [9.60083485e-01]\n",
            " [7.92308867e-01]\n",
            " [9.87031817e-01]\n",
            " [9.81382430e-01]\n",
            " [9.93609071e-01]\n",
            " [9.70753789e-01]\n",
            " [4.27100062e-02]\n",
            " [9.87815857e-03]\n",
            " [1.04556304e-04]\n",
            " [6.08448088e-02]\n",
            " [8.97832990e-01]\n",
            " [9.99155760e-01]\n",
            " [9.42523718e-01]\n",
            " [9.57105160e-01]\n",
            " [9.90766585e-01]\n",
            " [2.36133933e-02]\n",
            " [4.65306640e-03]\n",
            " [9.87865806e-01]\n",
            " [1.74632668e-03]\n",
            " [3.35541368e-02]\n",
            " [9.88699317e-01]\n",
            " [9.51424113e-07]\n",
            " [3.28063965e-04]\n",
            " [9.55865920e-01]]\n"
          ]
        }
      ]
    },
    {
      "cell_type": "code",
      "source": [
        "import numpy as np\n",
        "P = np.round(P).flatten()\n",
        "print(P)"
      ],
      "metadata": {
        "colab": {
          "base_uri": "https://localhost:8080/"
        },
        "id": "-rraNsZ03Dse",
        "outputId": "078bcc79-b94d-4feb-e217-7267ced325eb"
      },
      "execution_count": 53,
      "outputs": [
        {
          "output_type": "stream",
          "name": "stdout",
          "text": [
            "[1. 1. 0. 1. 0. 1. 1. 1. 1. 0. 0. 1. 1. 1. 1. 1. 0. 0. 0. 1. 1. 1. 0. 0.\n",
            " 1. 1. 1. 1. 1. 0. 1. 0. 0. 1. 0. 1. 1. 1. 1. 1. 0. 1. 1. 1. 1. 1. 1. 1.\n",
            " 0. 1. 1. 0. 1. 1. 1. 1. 0. 1. 1. 1. 0. 1. 1. 1. 0. 1. 0. 0. 1. 0. 1. 1.\n",
            " 0. 1. 1. 0. 1. 0. 1. 1. 1. 0. 0. 1. 1. 0. 0. 1. 0. 1. 0. 1. 0. 1. 1. 1.\n",
            " 0. 1. 1. 1. 1. 0. 1. 1. 1. 1. 1. 1. 1. 0. 1. 0. 0. 1. 1. 1. 1. 0. 0. 0.\n",
            " 1. 1. 1. 1. 1. 1. 0. 1. 1. 1. 0. 0. 1. 0. 1. 0. 1. 0. 1. 0. 0. 1. 0. 0.\n",
            " 0. 0. 1. 1. 1. 1. 1. 1. 1. 1. 1. 1. 1. 0. 0. 0. 1. 1. 1. 1. 1. 1. 1. 1.\n",
            " 1. 1. 0. 0. 0. 0. 1. 1. 1. 1. 1. 0. 0. 1. 0. 0. 1. 0. 0. 1.]\n"
          ]
        }
      ]
    },
    {
      "cell_type": "code",
      "source": [
        "# Calculate the accuracy, compare it to evaluate() output\n",
        "print('Manually calculated accuracy:', np.mean(P == y_test))\n",
        "print('Evaluate output:', model.evaluate(X_test, y_test))"
      ],
      "metadata": {
        "colab": {
          "base_uri": "https://localhost:8080/"
        },
        "id": "XrQrjzQc3zLJ",
        "outputId": "b9d877d1-9051-4955-cce9-806fdd5970c8"
      },
      "execution_count": 54,
      "outputs": [
        {
          "output_type": "stream",
          "name": "stdout",
          "text": [
            "Manually calculated accuracy: 0.9521276595744681\n",
            "6/6 [==============================] - 0s 4ms/step - loss: 0.1293 - accuracy: 0.9521\n",
            "Evaluate output: [0.12931500375270844, 0.9521276354789734]\n"
          ]
        }
      ]
    },
    {
      "cell_type": "markdown",
      "source": [
        "# Part 3: Saving and Loading a Model"
      ],
      "metadata": {
        "id": "Hu7Lazgm8q1-"
      }
    },
    {
      "cell_type": "code",
      "source": [
        "# Save\n",
        "model.save('linearclassifier.h5')"
      ],
      "metadata": {
        "id": "qsx67f648wZ_"
      },
      "execution_count": 56,
      "outputs": []
    },
    {
      "cell_type": "code",
      "source": [
        "# To check if the model file exists\n",
        "!ls -lh"
      ],
      "metadata": {
        "colab": {
          "base_uri": "https://localhost:8080/"
        },
        "id": "cC9kvcU4845M",
        "outputId": "86a5412e-b2cb-44df-f1e7-eaaf42329383"
      },
      "execution_count": 57,
      "outputs": [
        {
          "output_type": "stream",
          "name": "stdout",
          "text": [
            "total 24K\n",
            "-rw-r--r-- 1 root root  19K Sep 24 19:22 linearclassifier.h5\n",
            "drwxr-xr-x 1 root root 4.0K Sep 22 13:42 sample_data\n"
          ]
        }
      ]
    },
    {
      "cell_type": "code",
      "source": [
        "# Define model with ONLY Dense(1, input_shape=(D,1))\n",
        "model = tf.keras.models.load_model('linearclassifier.h5')\n",
        "print(model.layers)\n",
        "model.evaluate(X_test, y_test)"
      ],
      "metadata": {
        "colab": {
          "base_uri": "https://localhost:8080/"
        },
        "id": "3aJLJFo39BtL",
        "outputId": "bfd9b75a-67b1-4b56-91ec-133d937f3020"
      },
      "execution_count": 61,
      "outputs": [
        {
          "output_type": "stream",
          "name": "stdout",
          "text": [
            "[<keras.layers.core.dense.Dense object at 0x7f4818f53810>]\n",
            "6/6 [==============================] - 0s 2ms/step - loss: 0.1293 - accuracy: 0.9521\n"
          ]
        },
        {
          "output_type": "execute_result",
          "data": {
            "text/plain": [
              "[0.12931500375270844, 0.9521276354789734]"
            ]
          },
          "metadata": {},
          "execution_count": 61
        }
      ]
    },
    {
      "cell_type": "code",
      "source": [],
      "metadata": {
        "id": "pI7Ac00I-FHi"
      },
      "execution_count": null,
      "outputs": []
    }
  ]
}