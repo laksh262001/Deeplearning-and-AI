{
  "nbformat": 4,
  "nbformat_minor": 0,
  "metadata": {
    "colab": {
      "provenance": [],
      "collapsed_sections": [],
      "authorship_tag": "ABX9TyOoDml61aqxSBv6Fp2mQyBm",
      "include_colab_link": true
    },
    "kernelspec": {
      "name": "python3",
      "display_name": "Python 3"
    },
    "language_info": {
      "name": "python"
    }
  },
  "cells": [
    {
      "cell_type": "markdown",
      "metadata": {
        "id": "view-in-github",
        "colab_type": "text"
      },
      "source": [
        "<a href=\"https://colab.research.google.com/github/laksh262001/Deeplearning-and-AI/blob/main/AutoregressiveModel1.ipynb\" target=\"_parent\"><img src=\"https://colab.research.google.com/assets/colab-badge.svg\" alt=\"Open In Colab\"/></a>"
      ]
    },
    {
      "cell_type": "code",
      "execution_count": 1,
      "metadata": {
        "id": "mdzdM813ElS8"
      },
      "outputs": [],
      "source": [
        "import tensorflow as tf\n",
        "from tensorflow.keras.layers import Input, Dense\n",
        "from tensorflow.keras.models import Model\n",
        "from tensorflow.keras.optimizers import SGD, Adam"
      ]
    },
    {
      "cell_type": "code",
      "source": [
        "import numpy as np\n",
        "import pandas as pd\n",
        "import matplotlib.pyplot as plt"
      ],
      "metadata": {
        "id": "rNGjaX1WS4wF"
      },
      "execution_count": 3,
      "outputs": []
    },
    {
      "cell_type": "code",
      "source": [
        "series = np.sin(0.1*np.arange(200)) #+np.random.randn(200)*0.1\n",
        "plt.plot(series)\n",
        "plt.show()"
      ],
      "metadata": {
        "colab": {
          "base_uri": "https://localhost:8080/",
          "height": 265
        },
        "id": "c0nCkD0XTH4-",
        "outputId": "1b15f3bd-c197-4c71-cc54-5d4f77e447c1"
      },
      "execution_count": 5,
      "outputs": [
        {
          "output_type": "display_data",
          "data": {
            "text/plain": [
              "<Figure size 432x288 with 1 Axes>"
            ],
            "image/png": "[encoded data removed]"
          },
          "metadata": {
            "needs_background": "light"
          }
        }
      ]
    },
    {
      "cell_type": "code",
      "source": [
        "# Build dataset\n",
        "T = 10\n",
        "X = []\n",
        "Y = []\n",
        "for t in range(len(series) - T):\n",
        "  x = series[t:t+T]\n",
        "  X.append(x)\n",
        "  y = series[t+T]\n",
        "  Y.append(y)\n",
        "\n",
        "X = np.array(X).reshape(-1, T)\n",
        "Y = np.array(Y)\n",
        "N = len(X)\n",
        "print(\"X.shape\", X.shape, \"Y.shape\", Y.shape)\n"
      ],
      "metadata": {
        "colab": {
          "base_uri": "https://localhost:8080/"
        },
        "id": "sy2ib54sT0a1",
        "outputId": "56482f6d-2062-4278-9682-a58135974511"
      },
      "execution_count": 8,
      "outputs": [
        {
          "output_type": "stream",
          "name": "stdout",
          "text": [
            "X.shape (190, 10) Y.shape (190,)\n"
          ]
        }
      ]
    },
    {
      "cell_type": "code",
      "source": [
        "# Autoregression linear model\n",
        "i = Input(shape=(T,))\n",
        "x = Dense(1)(i)\n",
        "model = Model(i, x)\n",
        "model.compile(loss='mse', optimizer=Adam(lr=0.1),)\n",
        "\n",
        "# Train the RNN\n",
        "r = model.fit(\n",
        "    X[:-N//2], Y[:-N//2],\n",
        "    epochs=80,\n",
        "    validation_data=(X[-N//2:], Y[-N//2:]),\n",
        ")"
      ],
      "metadata": {
        "colab": {
          "base_uri": "https://localhost:8080/"
        },
        "id": "ixBE4ylHXEpz",
        "outputId": "985065a7-0563-41d3-cdd3-a2ae88a358a0"
      },
      "execution_count": 9,
      "outputs": [
        {
          "output_type": "stream",
          "name": "stderr",
          "text": [
            "/usr/local/lib/python3.7/dist-packages/keras/optimizer_v2/adam.py:105: UserWarning: The `lr` argument is deprecated, use `learning_rate` instead.\n",
            "  super(Adam, self).__init__(name, **kwargs)\n"
          ]
        },
        {
          "output_type": "stream",
          "name": "stdout",
          "text": [
            "Epoch 1/80\n",
            "3/3 [==============================] - 1s 78ms/step - loss: 0.3089 - val_loss: 0.1490\n",
            "Epoch 2/80\n",
            "3/3 [==============================] - 0s 14ms/step - loss: 0.0841 - val_loss: 0.0076\n",
            "Epoch 3/80\n",
            "3/3 [==============================] - 0s 13ms/step - loss: 0.0082 - val_loss: 0.0236\n",
            "Epoch 4/80\n",
            "3/3 [==============================] - 0s 14ms/step - loss: 0.0310 - val_loss: 0.0691\n",
            "Epoch 5/80\n",
            "3/3 [==============================] - 0s 14ms/step - loss: 0.0467 - val_loss: 0.0451\n",
            "Epoch 6/80\n",
            "3/3 [==============================] - 0s 15ms/step - loss: 0.0372 - val_loss: 0.0189\n",
            "Epoch 7/80\n",
            "3/3 [==============================] - 0s 14ms/step - loss: 0.0130 - val_loss: 0.0025\n",
            "Epoch 8/80\n",
            "3/3 [==============================] - 0s 24ms/step - loss: 0.0016 - val_loss: 0.0028\n",
            "Epoch 9/80\n",
            "3/3 [==============================] - 0s 14ms/step - loss: 0.0048 - val_loss: 0.0084\n",
            "Epoch 10/80\n",
            "3/3 [==============================] - 0s 22ms/step - loss: 0.0099 - val_loss: 0.0092\n",
            "Epoch 11/80\n",
            "3/3 [==============================] - 0s 22ms/step - loss: 0.0078 - val_loss: 0.0049\n",
            "Epoch 12/80\n",
            "3/3 [==============================] - 0s 16ms/step - loss: 0.0025 - val_loss: 6.2003e-04\n",
            "Epoch 13/80\n",
            "3/3 [==============================] - 0s 14ms/step - loss: 4.6696e-04 - val_loss: 0.0010\n",
            "Epoch 14/80\n",
            "3/3 [==============================] - 0s 16ms/step - loss: 0.0015 - val_loss: 0.0031\n",
            "Epoch 15/80\n",
            "3/3 [==============================] - 0s 23ms/step - loss: 0.0026 - val_loss: 0.0026\n",
            "Epoch 16/80\n",
            "3/3 [==============================] - 0s 15ms/step - loss: 0.0015 - val_loss: 4.0782e-04\n",
            "Epoch 17/80\n",
            "3/3 [==============================] - 0s 21ms/step - loss: 2.6608e-04 - val_loss: 2.8003e-04\n",
            "Epoch 18/80\n",
            "3/3 [==============================] - 0s 23ms/step - loss: 2.9660e-04 - val_loss: 6.8060e-04\n",
            "Epoch 19/80\n",
            "3/3 [==============================] - 0s 23ms/step - loss: 7.3114e-04 - val_loss: 6.7751e-04\n",
            "Epoch 20/80\n",
            "3/3 [==============================] - 0s 23ms/step - loss: 5.7566e-04 - val_loss: 2.0249e-04\n",
            "Epoch 21/80\n",
            "3/3 [==============================] - 0s 15ms/step - loss: 1.1991e-04 - val_loss: 4.3416e-05\n",
            "Epoch 22/80\n",
            "3/3 [==============================] - 0s 22ms/step - loss: 9.4371e-05 - val_loss: 1.7612e-04\n",
            "Epoch 23/80\n",
            "3/3 [==============================] - 0s 15ms/step - loss: 2.1442e-04 - val_loss: 2.5403e-04\n",
            "Epoch 24/80\n",
            "3/3 [==============================] - 0s 14ms/step - loss: 1.7448e-04 - val_loss: 1.1447e-04\n",
            "Epoch 25/80\n",
            "3/3 [==============================] - 0s 24ms/step - loss: 3.6093e-05 - val_loss: 2.3155e-06\n",
            "Epoch 26/80\n",
            "3/3 [==============================] - 0s 14ms/step - loss: 1.6691e-05 - val_loss: 7.9069e-05\n",
            "Epoch 27/80\n",
            "3/3 [==============================] - 0s 15ms/step - loss: 7.4560e-05 - val_loss: 9.6343e-05\n",
            "Epoch 28/80\n",
            "3/3 [==============================] - 0s 14ms/step - loss: 4.8838e-05 - val_loss: 2.2907e-05\n",
            "Epoch 29/80\n",
            "3/3 [==============================] - 0s 14ms/step - loss: 1.5864e-05 - val_loss: 8.4595e-06\n",
            "Epoch 30/80\n",
            "3/3 [==============================] - 0s 14ms/step - loss: 1.1918e-05 - val_loss: 1.9849e-05\n",
            "Epoch 31/80\n",
            "3/3 [==============================] - 0s 14ms/step - loss: 2.1561e-05 - val_loss: 1.9198e-05\n",
            "Epoch 32/80\n",
            "3/3 [==============================] - 0s 24ms/step - loss: 1.3485e-05 - val_loss: 2.9204e-06\n",
            "Epoch 33/80\n",
            "3/3 [==============================] - 0s 15ms/step - loss: 2.0117e-06 - val_loss: 2.8241e-06\n",
            "Epoch 34/80\n",
            "3/3 [==============================] - 0s 15ms/step - loss: 5.8270e-06 - val_loss: 7.5341e-06\n",
            "Epoch 35/80\n",
            "3/3 [==============================] - 0s 15ms/step - loss: 5.9820e-06 - val_loss: 6.4898e-06\n",
            "Epoch 36/80\n",
            "3/3 [==============================] - 0s 15ms/step - loss: 2.1950e-06 - val_loss: 2.6790e-07\n",
            "Epoch 37/80\n",
            "3/3 [==============================] - 0s 14ms/step - loss: 6.9658e-07 - val_loss: 2.4632e-06\n",
            "Epoch 38/80\n",
            "3/3 [==============================] - 0s 14ms/step - loss: 2.5990e-06 - val_loss: 2.5844e-06\n",
            "Epoch 39/80\n",
            "3/3 [==============================] - 0s 14ms/step - loss: 1.5333e-06 - val_loss: 8.9321e-07\n",
            "Epoch 40/80\n",
            "3/3 [==============================] - 0s 13ms/step - loss: 5.7160e-07 - val_loss: 2.7194e-07\n",
            "Epoch 41/80\n",
            "3/3 [==============================] - 0s 15ms/step - loss: 5.5363e-07 - val_loss: 8.4218e-07\n",
            "Epoch 42/80\n",
            "3/3 [==============================] - 0s 24ms/step - loss: 9.0954e-07 - val_loss: 4.0818e-07\n",
            "Epoch 43/80\n",
            "3/3 [==============================] - 0s 15ms/step - loss: 2.7975e-07 - val_loss: 7.6900e-08\n",
            "Epoch 44/80\n",
            "3/3 [==============================] - 0s 24ms/step - loss: 1.5516e-07 - val_loss: 2.4617e-07\n",
            "Epoch 45/80\n",
            "3/3 [==============================] - 0s 14ms/step - loss: 2.6925e-07 - val_loss: 4.3885e-07\n",
            "Epoch 46/80\n",
            "3/3 [==============================] - 0s 26ms/step - loss: 1.8818e-07 - val_loss: 4.5859e-08\n",
            "Epoch 47/80\n",
            "3/3 [==============================] - 0s 15ms/step - loss: 4.9234e-08 - val_loss: 9.3850e-08\n",
            "Epoch 48/80\n",
            "3/3 [==============================] - 0s 15ms/step - loss: 1.0225e-07 - val_loss: 9.2502e-08\n",
            "Epoch 49/80\n",
            "3/3 [==============================] - 0s 17ms/step - loss: 1.1306e-07 - val_loss: 5.6875e-08\n",
            "Epoch 50/80\n",
            "3/3 [==============================] - 0s 14ms/step - loss: 6.4092e-08 - val_loss: 6.1289e-08\n",
            "Epoch 51/80\n",
            "3/3 [==============================] - 0s 16ms/step - loss: 6.9069e-08 - val_loss: 1.1553e-07\n",
            "Epoch 52/80\n",
            "3/3 [==============================] - 0s 15ms/step - loss: 9.2779e-08 - val_loss: 6.1755e-08\n",
            "Epoch 53/80\n",
            "3/3 [==============================] - 0s 14ms/step - loss: 6.3074e-08 - val_loss: 2.8387e-08\n",
            "Epoch 54/80\n",
            "3/3 [==============================] - 0s 15ms/step - loss: 3.0944e-08 - val_loss: 1.2346e-07\n",
            "Epoch 55/80\n",
            "3/3 [==============================] - 0s 15ms/step - loss: 5.8324e-08 - val_loss: 1.9279e-08\n",
            "Epoch 56/80\n",
            "3/3 [==============================] - 0s 16ms/step - loss: 2.0538e-08 - val_loss: 1.3727e-08\n",
            "Epoch 57/80\n",
            "3/3 [==============================] - 0s 18ms/step - loss: 1.3111e-08 - val_loss: 2.1705e-08\n",
            "Epoch 58/80\n",
            "3/3 [==============================] - 0s 14ms/step - loss: 1.7807e-08 - val_loss: 4.6468e-09\n",
            "Epoch 59/80\n",
            "3/3 [==============================] - 0s 44ms/step - loss: 5.4587e-09 - val_loss: 3.7073e-09\n",
            "Epoch 60/80\n",
            "3/3 [==============================] - 0s 73ms/step - loss: 3.4489e-09 - val_loss: 3.2282e-09\n",
            "Epoch 61/80\n",
            "3/3 [==============================] - 0s 55ms/step - loss: 3.5518e-09 - val_loss: 3.5357e-09\n",
            "Epoch 62/80\n",
            "3/3 [==============================] - 0s 54ms/step - loss: 2.3825e-09 - val_loss: 1.2662e-10\n",
            "Epoch 63/80\n",
            "3/3 [==============================] - 0s 45ms/step - loss: 7.0535e-10 - val_loss: 1.4805e-09\n",
            "Epoch 64/80\n",
            "3/3 [==============================] - 0s 25ms/step - loss: 1.1595e-09 - val_loss: 8.7871e-10\n",
            "Epoch 65/80\n",
            "3/3 [==============================] - 0s 15ms/step - loss: 7.9870e-10 - val_loss: 6.1970e-10\n",
            "Epoch 66/80\n",
            "3/3 [==============================] - 0s 14ms/step - loss: 2.9388e-10 - val_loss: 2.6233e-10\n",
            "Epoch 67/80\n",
            "3/3 [==============================] - 0s 23ms/step - loss: 4.8172e-10 - val_loss: 4.0660e-10\n",
            "Epoch 68/80\n",
            "3/3 [==============================] - 0s 19ms/step - loss: 2.3699e-10 - val_loss: 7.3475e-10\n",
            "Epoch 69/80\n",
            "3/3 [==============================] - 0s 13ms/step - loss: 3.8341e-10 - val_loss: 1.1329e-10\n",
            "Epoch 70/80\n",
            "3/3 [==============================] - 0s 13ms/step - loss: 2.4770e-10 - val_loss: 6.0478e-10\n",
            "Epoch 71/80\n",
            "3/3 [==============================] - 0s 16ms/step - loss: 1.9055e-10 - val_loss: 1.7634e-10\n",
            "Epoch 72/80\n",
            "3/3 [==============================] - 0s 13ms/step - loss: 1.4784e-10 - val_loss: 1.2968e-10\n",
            "Epoch 73/80\n",
            "3/3 [==============================] - 0s 13ms/step - loss: 1.2612e-10 - val_loss: 1.0577e-10\n",
            "Epoch 74/80\n",
            "3/3 [==============================] - 0s 12ms/step - loss: 7.6048e-11 - val_loss: 2.2817e-11\n",
            "Epoch 75/80\n",
            "3/3 [==============================] - 0s 13ms/step - loss: 3.4645e-11 - val_loss: 5.6745e-11\n",
            "Epoch 76/80\n",
            "3/3 [==============================] - 0s 24ms/step - loss: 5.8762e-11 - val_loss: 6.6599e-11\n",
            "Epoch 77/80\n",
            "3/3 [==============================] - 0s 53ms/step - loss: 4.7810e-11 - val_loss: 2.9243e-11\n",
            "Epoch 78/80\n",
            "3/3 [==============================] - 0s 51ms/step - loss: 4.4824e-11 - val_loss: 4.4351e-11\n",
            "Epoch 79/80\n",
            "3/3 [==============================] - 0s 56ms/step - loss: 3.5380e-11 - val_loss: 5.8532e-11\n",
            "Epoch 80/80\n",
            "3/3 [==============================] - 0s 51ms/step - loss: 4.9218e-11 - val_loss: 1.4359e-11\n"
          ]
        }
      ]
    },
    {
      "cell_type": "code",
      "source": [
        "import matplotlib.pyplot as plot\n",
        "plt.plot(r.history['loss'], label='loss')\n",
        "plt.plot(r.history['val_loss'], label='val_loss')\n",
        "plt.legend()"
      ],
      "metadata": {
        "colab": {
          "base_uri": "https://localhost:8080/",
          "height": 282
        },
        "id": "jbanDSjAYRx4",
        "outputId": "7688a042-a592-4c9e-c6e7-fa3049c42b31"
      },
      "execution_count": 11,
      "outputs": [
        {
          "output_type": "execute_result",
          "data": {
            "text/plain": [
              "<matplotlib.legend.Legend at 0x7fe2d06ebd50>"
            ]
          },
          "metadata": {},
          "execution_count": 11
        },
        {
          "output_type": "display_data",
          "data": {
            "text/plain": [
              "<Figure size 432x288 with 1 Axes>"
            ],
            "image/png": "[encoded data removed]"
          },
          "metadata": {
            "needs_background": "light"
          }
        }
      ]
    },
    {
      "cell_type": "code",
      "source": [
        "# Wrong forecast using true targets\n",
        "\n",
        "validation_target = Y[-N//2:]\n",
        "validation_predictions = []\n",
        "\n",
        "#index of first validation input\n",
        "i = -N//2\n",
        "\n",
        "while len(validation_predictions) < len(validation_target):\n",
        "  p = model.predict(X[i].reshape(1, -1))[0,0]\n",
        "  i += 1\n",
        "\n",
        "  #update the predictions list\n",
        "  validation_predictions.append(p)\n",
        "  "
      ],
      "metadata": {
        "id": "rFuh1KyBZost"
      },
      "execution_count": 12,
      "outputs": []
    },
    {
      "cell_type": "code",
      "source": [
        "plt.plot(validation_target,label='forecast target')\n",
        "plt.plot(validation_predictions, label='forecast prediction')\n",
        "plt.legend()"
      ],
      "metadata": {
        "colab": {
          "base_uri": "https://localhost:8080/",
          "height": 282
        },
        "id": "3rGg-sGqbU3b",
        "outputId": "0a10eabd-6aaf-44d1-a554-95415fa64172"
      },
      "execution_count": 13,
      "outputs": [
        {
          "output_type": "execute_result",
          "data": {
            "text/plain": [
              "<matplotlib.legend.Legend at 0x7fe2d582d550>"
            ]
          },
          "metadata": {},
          "execution_count": 13
        },
        {
          "output_type": "display_data",
          "data": {
            "text/plain": [
              "<Figure size 432x288 with 1 Axes>"
            ],
            "image/png": "[encoded data removed]"
          },
          "metadata": {
            "needs_background": "light"
          }
        }
      ]
    },
    {
      "cell_type": "code",
      "source": [
        "validation_target = Y[-N//2:]\n",
        "validation_predictions = []\n",
        "\n",
        "last_x = X[-N//2]\n",
        "\n",
        "while len(validation_predictions) < len(validation_target):\n",
        "  p = model.predict(last_x.reshape(1, -1))[0,0]\n",
        "\n",
        "  validation_predictions.append(p)\n",
        "\n",
        "  last_x = np.roll(last_x, -1)\n",
        "  last_x[-1] = p "
      ],
      "metadata": {
        "id": "gK1v6b4YcP3Q"
      },
      "execution_count": 14,
      "outputs": []
    },
    {
      "cell_type": "code",
      "source": [
        "plt.plot(validation_target,label='forecast target')\n",
        "plt.plot(validation_predictions, label='forecast prediction')\n",
        "plt.legend()"
      ],
      "metadata": {
        "colab": {
          "base_uri": "https://localhost:8080/",
          "height": 282
        },
        "id": "MKaP96LwdwHh",
        "outputId": "12f1c0e0-f9c5-4bed-a635-239281f0ccfc"
      },
      "execution_count": 16,
      "outputs": [
        {
          "output_type": "execute_result",
          "data": {
            "text/plain": [
              "<matplotlib.legend.Legend at 0x7fe2d0256f90>"
            ]
          },
          "metadata": {},
          "execution_count": 16
        },
        {
          "output_type": "display_data",
          "data": {
            "text/plain": [
              "<Figure size 432x288 with 1 Axes>"
            ],
            "image/png": "[encoded data removed]"
          },
          "metadata": {
            "needs_background": "light"
          }
        }
      ]
    },
    {
      "cell_type": "code",
      "source": [],
      "metadata": {
        "id": "yYUejmqed1oB"
      },
      "execution_count": null,
      "outputs": []
    }
  ]
}